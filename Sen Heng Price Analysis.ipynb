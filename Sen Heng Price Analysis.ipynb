{
 "cells": [
  {
   "cell_type": "markdown",
   "metadata": {},
   "source": [
    "# Sen Heng Web Scrapping Project\n",
    "\n",
    "## Problem Statement: To scrap the product details in Sen Heng Website under the category of Home Entertainment and suggest which items should be sold more or be sold less. \n",
    "\n",
    "### Major Assumption: Since number of items sold for each product is not available, it is assumed that every buyer has left a review for their product. Hence, number of items sold is equal to number of reviews."
   ]
  },
  {
   "cell_type": "code",
   "execution_count": 5,
   "metadata": {
    "scrolled": false
   },
   "outputs": [
    {
     "name": "stdout",
     "output_type": "stream",
     "text": [
      "https://www.senheng.com.my/haier-32-inch-full-hd-led-tv-le32b9600t.html\n",
      "Saving:  Haier 32-Inch Full HD LED TV LE32B9600T\n",
      "https://www.senheng.com.my/sony-wf-1000xm3-wireless-noise-cancelling-headphones-black.html\n",
      "Saving:  Sony WF-1000XM3 Wireless Noise Cancelling Headphones Black\n",
      "https://www.senheng.com.my/haier-50-inch-uhd-android-tv-le50u6900ug.html\n",
      "Saving:  Haier 50-Inch UHD Android TV LE50U6900UG\n",
      "https://www.senheng.com.my/huawei-freelace-amber-sunrise-hua-cm70-sunrise.html\n",
      "Saving:  HUAWEI FreeLace Amber Sunrise\n",
      "https://www.senheng.com.my/sharp-60-inch-4k-uhd-tv-wide-colour-dvb-t2x4-master-engine-pro-ii-shp-4tc60ch1x.html\n",
      "Saving:  Sharp 60 Inch 4K UHD TV Wide Colour DVB-T2X4 Master Engine Pro II SHP-4TC60CH1X\n",
      "https://www.senheng.com.my/sony-43-inch-x75h-4k-ultra-hd-hdr-smart-tv-sny-kd43x7500h.html\n",
      "Saving:  Sony 43 Inch X75H 4K Ultra HD HDR Smart TV SNY-KD43X7500H\n",
      "https://www.senheng.com.my/philips-32-inch-5500-series-hd-led-tvs-32pht5583-68.html\n",
      "Saving:  Philips 32 Inch 5500 Series HD LED TVs 32PHT5583/68\n",
      "https://www.senheng.com.my/sony-85-inch-x9000h-series-smart-tv-android-tv-kd-85x9000h.html\n",
      "Saving:  Sony 85 Inch X9000H Series Smart TV (Android TV) KD-85X9000H\n",
      "https://www.senheng.com.my/honor-amazon-sport-pro-red.html\n",
      "Saving:  HONOR Amazon Sport Pro Red\n",
      "https://www.senheng.com.my/lg-55-inch-nano81-series-nanocell-active-hdr-smart-uhd-tv-with-ai-thinq-lg-55nano81.html\n",
      "Saving:  LG NANO81 55’’ NanoCell 4K Smart TV with AI ThinQ® (2020) LG-55NANO81\n",
      "https://www.senheng.com.my/philips-50-inch-4k-uhd-led-smart-tv-50put6604-68.html\n",
      "Saving:  Philips 50 Inch 4K UHD LED Smart TV 50PUT6604/68\n",
      "https://www.senheng.com.my/sony-75-inch-x90h-full-array-led-4k-ultra-hd-high-dynamic-range-hdr-smart-tv-android-tv-sny-kd75x9000h.html\n",
      "Saving:  Sony 75 Inch X90H Full Array LED 4K Ultra HD High Dynamic Range (HDR) Smart TV (Android TV) SNY-KD75X9000H\n",
      "https://www.senheng.com.my/lg-65-inch-uhd-70-series-4k-hdr-smart-led-tv-65un7000.html\n",
      "Saving:  LG 65 inch UHD 70 Series 4K HDR Smart LED TV 65UN7000\n",
      "https://www.senheng.com.my/samsung-65-inch-q95t-qled-4k-smart-tv-2020-sam-qa65q95ta.html\n",
      "Saving:  Samsung 65 Inch Q95T QLED 4K Smart TV (2020) SAM-QA65Q95TA\n",
      "https://www.senheng.com.my/samsung-soundbar-150w-2-1ch-t420-sam-hwt420.html\n",
      "Saving:  Samsung Soundbar 150W 2.1Ch T420 SAM-HWT420\n",
      "https://www.senheng.com.my/lg-75-inch-un72-series-active-hdr-smart-uhd-tv-with-ai-thinq-lg-75un7200.html\n",
      "Saving:  LG 75 Inch UN72 Series Active HDR Smart UHD TV with AI ThinQ® LG-75UN7200\n",
      "https://www.senheng.com.my/lg-bx-65-inch-class-4k-smart-oled-tv-w-ai-thinq-64-5-diag-oled65bxpta.html\n",
      "Saving:  LG BX 65 inch Class 4K Smart OLED TV w/ AI ThinQ® (64.5'' Diag) OLED65BXPTA\n",
      "https://www.senheng.com.my/sony-htz9f-400w-3-1-channel-network-soundbar-system.html\n",
      "Saving:  Sony HTZ9F 400W 3.1-Channel Network Soundbar System\n",
      "https://www.senheng.com.my/beats-solo3-wireless-on-ear-headphone-rose-gold.html\n",
      "Saving:  Beats Solo3 Wireless On-Ear Headphone (Rose Gold)\n",
      "https://www.senheng.com.my/samsung-50-inch-tu8500-crystal-uhd-4k-smart-tv-2020.html\n",
      "Saving:  Samsung 50 Inch TU8500 Crystal UHD 4K Smart TV (2020)\n",
      "https://www.senheng.com.my/samsung-q60t-soundbar-with-acoustic-beam-technology-hw-q60t-xm.html\n",
      "Saving:  Samsung Q60T Soundbar with Acoustic Beam Technology HW-Q60T/XM\n",
      "https://www.senheng.com.my/panasonic-65-inch-hz1000-oled-4k-pro-uhd-smart-tv-th-65hz1000k.html\n",
      "Saving:  Panasonic 65 Inch HZ1000 OLED 4K Pro UHD Smart TV TH-65HZ1000K\n",
      "https://www.senheng.com.my/sharp-60-inch-4k-uhd-tv-wide-colour-dvb-t2x4-master-engine-pro-ii-shp-4tc60ch1x.html\n",
      "Saving:  Sharp 60 Inch 4K UHD TV Wide Colour DVB-T2X4 Master Engine Pro II SHP-4TC60CH1X\n",
      "https://www.senheng.com.my/lg-65-inch-nano86-series-4k-tv-with-ai-thinq-lg-65nano86.html\n",
      "Saving:  LG NANO86 65’’ NanoCell 4K Smart TV with AI ThinQ® (2020) LG-65NANO86\n",
      "https://www.senheng.com.my/hisense-85-inch-4k-uhd-a7500f-series-85a7500f.html\n",
      "Saving:  Hisense 85 Inch 4K UHD A7500F Series 85A7500F\n",
      "https://www.senheng.com.my/huawei-sound-x.html\n",
      "Saving:  HUAWEI Sound X\n",
      "https://www.senheng.com.my/lg-un74-55-inch-4k-smart-uhd-tv-55un7400pta.html\n",
      "Saving:  LG UN74 Series 55” 4K Active HDR Smart UHD TV with AI ThinQ® ( 2020 ) LG-55UN7400\n",
      "https://www.senheng.com.my/rapoo-a100-bluetooth-mini-speaker-rap-a100-blk.html\n",
      "Saving:  Rapoo A100 Bluetooth Mini Speaker RAP-A100/BLK\n",
      "https://www.senheng.com.my/oppo-enco-m31.html\n",
      "Saving:  OPPO Enco M31\n",
      "https://www.senheng.com.my/samsung-q60t-qled-4k-uhd-hdr-smart-tv-2020-65-inches.html\n",
      "Saving:  Samsung 65 Inches Q60T QLED 4K UHD HDR Smart TV 2020 SAM-QA65Q60TA\n",
      "https://www.senheng.com.my/lg-50-inch-un73-series-active-hdr-smart-uhd-tv-with-ai-thinq-lg-50un7300.html\n",
      "Saving:  LG UN73 Series 50” 4K Active HDR Smart UHD TV with AI ThinQ® ( 2020) LG-50UN7300\n",
      "https://www.senheng.com.my/sharp-70-inch-4k-uhd-tv-4tc70bk1x.html\n",
      "Saving:  Sharp 70-Inch 4K UHD TV 4TC70BK1X\n",
      "https://www.senheng.com.my/samsung-55-inch-the-frame-qled-4k-smart-lifestyle-tv-2020-sam-qa55ls03ta.html\n",
      "Saving:  Samsung 55 Inch The Frame QLED 4K Smart Lifestyle TV (2020) SAM-QA55LS03TA\n",
      "https://www.senheng.com.my/sony-3-1ch-dolby-atmos-dts-x-soundbar-ht-g700.html\n",
      "Saving:  Sony 3.1ch Dolby Atmos® DTS:X™ Soundbar HT-G700\n",
      "https://www.senheng.com.my/sharp-42-inch-full-hd-tv-2tc42bd1x.html\n",
      "Saving:  Sharp 42-Inch Full HD TV 2TC42BD1X\n",
      "https://www.senheng.com.my/samsung-55-inch-q80t-qled-4k-smart-tv-2020-sam-qa55q80ta.html\n",
      "Saving:  Samsung 55 Inch Q80T QLED 4K Smart TV (2020) SAM-QA55Q80TA\n",
      "https://www.senheng.com.my/lg-sn9y-520w-5-1-2ch-hi-res-dolby-atmos-sound-bar-with-meridian-technology-lg-sn9y.html\n",
      "Saving:  LG SN9Y 520W 5.1.2ch Hi-Res Dolby Atmos Sound Bar with Meridian Technology LG-SN9Y\n",
      "https://www.senheng.com.my/sony-43d-high-power-audio-system-with-bluetooth-technology-sny-mhcv43d.html\n",
      "Saving:  Sony 43D High Power Audio System with BLUETOOTH® Technology SNY-MHCV43D\n",
      "https://www.senheng.com.my/airpods-max.html\n",
      "Saving:  AirPods Max\n",
      "https://www.senheng.com.my/belkin-boostup-2-ports-usb-swivel-charger-f8m102sa.html\n",
      "Saving:  Belkin BOOSTUP 2-Ports USB Swivel Charger F8M102SA\n",
      "https://www.senheng.com.my/samsung-65-inch-q80t-qled-4k-uhd-hdr-smart-tv-sam-qa65q80ta.html\n",
      "Saving:  Samsung 65 Inch Q80T QLED 4K UHD HDR Smart TV SAM-QA65Q80TA\n",
      "https://www.senheng.com.my/sony-85-inch-x9000h-series-smart-tv-android-tv-kd-85x9000h.html\n",
      "Saving:  Sony 85 Inch X9000H Series Smart TV (Android TV) KD-85X9000H\n",
      "https://www.senheng.com.my/hisense-50-inch-4k-android-a7400f-series-50a7400f.html\n",
      "Saving:  Hisense 50 Inch 4K Android A7400F Series 50A7400F\n",
      "https://www.senheng.com.my/sony-77-inch-master-series-oled-android-tv-kd77a9g.html\n",
      "Saving:  Sony 77-Inch MASTER Series OLED Android TV KD77A9G\n",
      "https://www.senheng.com.my/haier-32-inch-full-hd-led-tv-le32b9600t.html\n",
      "Saving:  Haier 32-Inch Full HD LED TV LE32B9600T\n",
      "https://www.senheng.com.my/sony-wf-1000xm3-wireless-noise-cancelling-headphones-black.html\n",
      "Saving:  Sony WF-1000XM3 Wireless Noise Cancelling Headphones Black\n",
      "https://www.senheng.com.my/haier-50-inch-uhd-android-tv-le50u6900ug.html\n",
      "Saving:  Haier 50-Inch UHD Android TV LE50U6900UG\n",
      "https://www.senheng.com.my/huawei-freelace-amber-sunrise-hua-cm70-sunrise.html\n",
      "Saving:  HUAWEI FreeLace Amber Sunrise\n",
      "https://www.senheng.com.my/sharp-60-inch-4k-uhd-tv-wide-colour-dvb-t2x4-master-engine-pro-ii-shp-4tc60ch1x.html\n",
      "Saving:  Sharp 60 Inch 4K UHD TV Wide Colour DVB-T2X4 Master Engine Pro II SHP-4TC60CH1X\n",
      "https://www.senheng.com.my/sony-43-inch-x75h-4k-ultra-hd-hdr-smart-tv-sny-kd43x7500h.html\n",
      "Saving:  Sony 43 Inch X75H 4K Ultra HD HDR Smart TV SNY-KD43X7500H\n",
      "https://www.senheng.com.my/philips-32-inch-5500-series-hd-led-tvs-32pht5583-68.html\n",
      "Saving:  Philips 32 Inch 5500 Series HD LED TVs 32PHT5583/68\n",
      "https://www.senheng.com.my/sony-85-inch-x9000h-series-smart-tv-android-tv-kd-85x9000h.html\n",
      "Saving:  Sony 85 Inch X9000H Series Smart TV (Android TV) KD-85X9000H\n",
      "https://www.senheng.com.my/samsung-65-inch-q95t-qled-4k-smart-tv-2020-sam-qa65q95ta.html\n",
      "Saving:  Samsung 65 Inch Q95T QLED 4K Smart TV (2020) SAM-QA65Q95TA\n",
      "https://www.senheng.com.my/samsung-q60t-soundbar-with-acoustic-beam-technology-hw-q60t-xm.html\n",
      "Saving:  Samsung Q60T Soundbar with Acoustic Beam Technology HW-Q60T/XM\n",
      "https://www.senheng.com.my/panasonic-65-inch-hz1000-oled-4k-pro-uhd-smart-tv-th-65hz1000k.html\n",
      "Saving:  Panasonic 65 Inch HZ1000 OLED 4K Pro UHD Smart TV TH-65HZ1000K\n",
      "https://www.senheng.com.my/beats-solo3-wireless-on-ear-headphone-rose-gold.html\n",
      "Saving:  Beats Solo3 Wireless On-Ear Headphone (Rose Gold)\n",
      "https://www.senheng.com.my/samsung-50-inch-tu8500-crystal-uhd-4k-smart-tv-2020.html\n",
      "Saving:  Samsung 50 Inch TU8500 Crystal UHD 4K Smart TV (2020)\n",
      "https://www.senheng.com.my/lg-65-inch-nano86-series-4k-tv-with-ai-thinq-lg-65nano86.html\n",
      "Saving:  LG NANO86 65’’ NanoCell 4K Smart TV with AI ThinQ® (2020) LG-65NANO86\n",
      "https://www.senheng.com.my/hisense-85-inch-4k-uhd-a7500f-series-85a7500f.html\n",
      "Saving:  Hisense 85 Inch 4K UHD A7500F Series 85A7500F\n",
      "https://www.senheng.com.my/sharp-60-inch-4k-uhd-tv-wide-colour-dvb-t2x4-master-engine-pro-ii-shp-4tc60ch1x.html\n",
      "Saving:  Sharp 60 Inch 4K UHD TV Wide Colour DVB-T2X4 Master Engine Pro II SHP-4TC60CH1X\n",
      "https://www.senheng.com.my/rapoo-a100-bluetooth-mini-speaker-rap-a100-blk.html\n",
      "Saving:  Rapoo A100 Bluetooth Mini Speaker RAP-A100/BLK\n",
      "https://www.senheng.com.my/oppo-enco-m31.html\n",
      "Saving:  OPPO Enco M31\n",
      "https://www.senheng.com.my/huawei-sound-x.html\n",
      "Saving:  HUAWEI Sound X\n",
      "https://www.senheng.com.my/lg-un74-55-inch-4k-smart-uhd-tv-55un7400pta.html\n",
      "Saving:  LG UN74 Series 55” 4K Active HDR Smart UHD TV with AI ThinQ® ( 2020 ) LG-55UN7400\n",
      "https://www.senheng.com.my/samsung-q60t-qled-4k-uhd-hdr-smart-tv-2020-65-inches.html\n",
      "Saving:  Samsung 65 Inches Q60T QLED 4K UHD HDR Smart TV 2020 SAM-QA65Q60TA\n",
      "https://www.senheng.com.my/lg-50-inch-un73-series-active-hdr-smart-uhd-tv-with-ai-thinq-lg-50un7300.html\n",
      "Saving:  LG UN73 Series 50” 4K Active HDR Smart UHD TV with AI ThinQ® ( 2020) LG-50UN7300\n",
      "https://www.senheng.com.my/sony-3-1ch-dolby-atmos-dts-x-soundbar-ht-g700.html\n",
      "Saving:  Sony 3.1ch Dolby Atmos® DTS:X™ Soundbar HT-G700\n",
      "https://www.senheng.com.my/sharp-70-inch-4k-uhd-tv-4tc70bk1x.html\n",
      "Saving:  Sharp 70-Inch 4K UHD TV 4TC70BK1X\n",
      "https://www.senheng.com.my/samsung-55-inch-the-frame-qled-4k-smart-lifestyle-tv-2020-sam-qa55ls03ta.html\n",
      "Saving:  Samsung 55 Inch The Frame QLED 4K Smart Lifestyle TV (2020) SAM-QA55LS03TA\n",
      "https://www.senheng.com.my/lg-sn9y-520w-5-1-2ch-hi-res-dolby-atmos-sound-bar-with-meridian-technology-lg-sn9y.html\n",
      "Saving:  LG SN9Y 520W 5.1.2ch Hi-Res Dolby Atmos Sound Bar with Meridian Technology LG-SN9Y\n",
      "https://www.senheng.com.my/sony-43d-high-power-audio-system-with-bluetooth-technology-sny-mhcv43d.html\n",
      "Saving:  Sony 43D High Power Audio System with BLUETOOTH® Technology SNY-MHCV43D\n",
      "https://www.senheng.com.my/airpods-max.html\n",
      "Saving:  AirPods Max\n",
      "https://www.senheng.com.my/belkin-boostup-2-ports-usb-swivel-charger-f8m102sa.html\n",
      "Saving:  Belkin BOOSTUP 2-Ports USB Swivel Charger F8M102SA\n",
      "https://www.senheng.com.my/sharp-42-inch-full-hd-tv-2tc42bd1x.html\n",
      "Saving:  Sharp 42-Inch Full HD TV 2TC42BD1X\n",
      "https://www.senheng.com.my/samsung-55-inch-q80t-qled-4k-smart-tv-2020-sam-qa55q80ta.html\n",
      "Saving:  Samsung 55 Inch Q80T QLED 4K Smart TV (2020) SAM-QA55Q80TA\n",
      "https://www.senheng.com.my/sony-85-inch-x9000h-series-smart-tv-android-tv-kd-85x9000h.html\n",
      "Saving:  Sony 85 Inch X9000H Series Smart TV (Android TV) KD-85X9000H\n",
      "https://www.senheng.com.my/hisense-50-inch-4k-android-a7400f-series-50a7400f.html\n",
      "Saving:  Hisense 50 Inch 4K Android A7400F Series 50A7400F\n",
      "https://www.senheng.com.my/sony-77-inch-master-series-oled-android-tv-kd77a9g.html\n",
      "Saving:  Sony 77-Inch MASTER Series OLED Android TV KD77A9G\n",
      "https://www.senheng.com.my/samsung-65-inch-q80t-qled-4k-uhd-hdr-smart-tv-sam-qa65q80ta.html\n",
      "Saving:  Samsung 65 Inch Q80T QLED 4K UHD HDR Smart TV SAM-QA65Q80TA\n",
      "https://www.senheng.com.my/sharp-aquos-80-inch-4k-uhd-android-tv-4tc80cl1x.html\n",
      "Saving:  Sharp AQUOS 80 Inch 4K UHD Android TV 4TC80CL1X\n",
      "https://www.senheng.com.my/samsung-55-inch-tu8000-crystal-uhd-4k-smart-tv-2020.html\n",
      "Saving:  Samsung TU8000 Crystal UHD 4K Smart TV (2020)\n",
      "https://www.senheng.com.my/lg-75-inch-uhd-4k-tv-w-ai-thinq-75un8100ptb.html\n",
      "Saving:  LG UN81 Series 75” 4K Active HDR Smart UHD TV with AI ThinQ® ( 2020 ) LG-75UN8100\n",
      "https://www.senheng.com.my/promate-chill-pro-6959144046563-blue.html\n",
      "Saving:  Promate Chill PRO-6959144046563 Blue\n",
      "https://www.senheng.com.my/lg-65-inch-nano81-series-nanocell-active-hdr-smart-uhd-tv-with-ai-thinq-65nano81tna.html\n",
      "Saving:  LG NANO81 65’’ NanoCell TV 4K with AI ThinQ® (2020)\n",
      "https://www.senheng.com.my/lg-55-inch-nano86-series-4k-tv-with-ai-thinq-lg-55nano86.html\n",
      "Saving:  LG NANO86 55’’ NanoCell 4K Smart TV with AI ThinQ® (2020) LG-55NANO86\n",
      "https://www.senheng.com.my/sony media remote.html\n",
      "Saving:  [Pre-order] Sony Media Remote [ETA: 11 Dec 2020 onward]\n",
      "https://www.senheng.com.my/samsung-q60t-qled-4k-uhd-hdr-smart-tv-2020-50-inches.html\n",
      "Saving:  Samsung Q60T QLED 4K UHD HDR Smart TV 2020\n",
      "https://www.senheng.com.my/lg-55-inch-un73-series-active-hdr-smart-uhd-tv-with-ai-thinq.html\n",
      "Saving:  LG UN73 Series 55” 4K Active HDR Smart UHD TV with AI ThinQ® ( 2020 )\n",
      "https://www.senheng.com.my/haier-32-inch-full-hd-led-tv-le32b9600t.html\n",
      "Saving:  Haier 32-Inch Full HD LED TV LE32B9600T\n",
      "https://www.senheng.com.my/sony-wf-1000xm3-wireless-noise-cancelling-headphones-black.html\n",
      "Saving:  Sony WF-1000XM3 Wireless Noise Cancelling Headphones Black\n",
      "https://www.senheng.com.my/haier-50-inch-uhd-android-tv-le50u6900ug.html\n",
      "Saving:  Haier 50-Inch UHD Android TV LE50U6900UG\n",
      "https://www.senheng.com.my/huawei-freelace-amber-sunrise-hua-cm70-sunrise.html\n",
      "Saving:  HUAWEI FreeLace Amber Sunrise\n",
      "https://www.senheng.com.my/sharp-60-inch-4k-uhd-tv-wide-colour-dvb-t2x4-master-engine-pro-ii-shp-4tc60ch1x.html\n",
      "Saving:  Sharp 60 Inch 4K UHD TV Wide Colour DVB-T2X4 Master Engine Pro II SHP-4TC60CH1X\n",
      "https://www.senheng.com.my/sony-43-inch-x75h-4k-ultra-hd-hdr-smart-tv-sny-kd43x7500h.html\n",
      "Saving:  Sony 43 Inch X75H 4K Ultra HD HDR Smart TV SNY-KD43X7500H\n",
      "https://www.senheng.com.my/philips-32-inch-5500-series-hd-led-tvs-32pht5583-68.html\n",
      "Saving:  Philips 32 Inch 5500 Series HD LED TVs 32PHT5583/68\n",
      "https://www.senheng.com.my/sony-85-inch-x9000h-series-smart-tv-android-tv-kd-85x9000h.html\n",
      "Saving:  Sony 85 Inch X9000H Series Smart TV (Android TV) KD-85X9000H\n",
      "https://www.senheng.com.my/lg-sn9y-520w-5-1-2ch-hi-res-dolby-atmos-sound-bar-with-meridian-technology-lg-sn9y.html\n",
      "Saving:  LG SN9Y 520W 5.1.2ch Hi-Res Dolby Atmos Sound Bar with Meridian Technology LG-SN9Y\n",
      "https://www.senheng.com.my/sony-43d-high-power-audio-system-with-bluetooth-technology-sny-mhcv43d.html\n",
      "Saving:  Sony 43D High Power Audio System with BLUETOOTH® Technology SNY-MHCV43D\n",
      "https://www.senheng.com.my/airpods-max.html\n",
      "Saving:  AirPods Max\n",
      "https://www.senheng.com.my/belkin-boostup-2-ports-usb-swivel-charger-f8m102sa.html\n",
      "Saving:  Belkin BOOSTUP 2-Ports USB Swivel Charger F8M102SA\n",
      "https://www.senheng.com.my/samsung-65-inch-q80t-qled-4k-uhd-hdr-smart-tv-sam-qa65q80ta.html\n",
      "Saving:  Samsung 65 Inch Q80T QLED 4K UHD HDR Smart TV SAM-QA65Q80TA\n",
      "https://www.senheng.com.my/sony-85-inch-x9000h-series-smart-tv-android-tv-kd-85x9000h.html\n",
      "Saving:  Sony 85 Inch X9000H Series Smart TV (Android TV) KD-85X9000H\n",
      "https://www.senheng.com.my/hisense-50-inch-4k-android-a7400f-series-50a7400f.html\n",
      "Saving:  Hisense 50 Inch 4K Android A7400F Series 50A7400F\n",
      "https://www.senheng.com.my/sony-77-inch-master-series-oled-android-tv-kd77a9g.html\n",
      "Saving:  Sony 77-Inch MASTER Series OLED Android TV KD77A9G\n",
      "https://www.senheng.com.my/samsung-55-inch-tu8000-crystal-uhd-4k-smart-tv-2020.html\n",
      "Saving:  Samsung TU8000 Crystal UHD 4K Smart TV (2020)\n",
      "https://www.senheng.com.my/lg-75-inch-uhd-4k-tv-w-ai-thinq-75un8100ptb.html\n",
      "Saving:  LG UN81 Series 75” 4K Active HDR Smart UHD TV with AI ThinQ® ( 2020 ) LG-75UN8100\n",
      "https://www.senheng.com.my/sharp-aquos-80-inch-4k-uhd-android-tv-4tc80cl1x.html\n",
      "Saving:  Sharp AQUOS 80 Inch 4K UHD Android TV 4TC80CL1X\n",
      "https://www.senheng.com.my/promate-chill-pro-6959144046563-blue.html\n",
      "Saving:  Promate Chill PRO-6959144046563 Blue\n",
      "https://www.senheng.com.my/lg-65-inch-nano81-series-nanocell-active-hdr-smart-uhd-tv-with-ai-thinq-65nano81tna.html\n",
      "Saving:  LG NANO81 65’’ NanoCell TV 4K with AI ThinQ® (2020)\n",
      "https://www.senheng.com.my/samsung-q60t-qled-4k-uhd-hdr-smart-tv-2020-50-inches.html\n",
      "Saving:  Samsung Q60T QLED 4K UHD HDR Smart TV 2020\n",
      "https://www.senheng.com.my/lg-55-inch-un73-series-active-hdr-smart-uhd-tv-with-ai-thinq.html\n",
      "Saving:  LG UN73 Series 55” 4K Active HDR Smart UHD TV with AI ThinQ® ( 2020 )\n",
      "https://www.senheng.com.my/lg-55-inch-nano86-series-4k-tv-with-ai-thinq-lg-55nano86.html\n",
      "Saving:  LG NANO86 55’’ NanoCell 4K Smart TV with AI ThinQ® (2020) LG-55NANO86\n",
      "https://www.senheng.com.my/sony media remote.html\n",
      "Saving:  [Pre-order] Sony Media Remote [ETA: 11 Dec 2020 onward]\n",
      "https://www.senheng.com.my/honor-amazon-sport-pro-phantom-grey.html\n",
      "Saving:  HONOR Amazon Sport Pro Phantom Grey\n",
      "https://www.senheng.com.my/samsung-43-inch-the-sero-qled-4k-smart-lifestyle-tv-2020.html\n",
      "Saving:  Samsung 43 Inch The Sero QLED 4K Smart Lifestyle TV (2020)\n",
      "https://www.senheng.com.my/sharp-32-inch-full-hd-tv-2tc32bd1x.html\n",
      "Saving:  Sharp 32-Inch Full HD TV 2TC32BD1X\n",
      "https://www.senheng.com.my/lg-sn7y-380w-3-1-2ch-hi-res-dolby-atmos-sound-bar-with-meridian-technology-&-bluetooth-connectivity-lg-sn7y.html\n",
      "Saving:  LG SN7Y 380W 3.1.2ch Hi-Res Dolby Atmos Sound Bar with Meridian Technology & Bluetooth® Connectivity LG-SN7Y\n",
      "https://www.senheng.com.my/apple-earpods-with-lightning-connector.html\n",
      "Saving:  Apple EarPods with Lightning Connector\n",
      "https://www.senheng.com.my/sharp-45-inch-full-hd-tv-2tc45bg1x.html\n",
      "Saving:  Sharp 45-Inch Android Full HD TV 2TC45BG1X\n",
      "https://www.senheng.com.my/haier-55-inch-uhd-android-series-tv-le55u6900ug.html\n",
      "Saving:  Haier 55-Inch UHD Android Series TV LE55U6900UG\n",
      "https://www.senheng.com.my/samsung-75-inch-q95t-qled-4k-smart-tv-2020-sam-qa75q95ta.html\n",
      "Saving:  Samsung 75 Inch Q95T QLED 4K Smart TV (2020) SAM-QA75Q95TA\n",
      "https://www.senheng.com.my/riversong-melody-t-type-c.html\n",
      "Saving:  Riversong Melody T+ (Type-C)\n",
      "https://www.senheng.com.my/sony-ht-x8500-bluetooth-single-sound-bar-with-dolby-atmos-sny-htx8500.html\n",
      "Saving:  Sony HT-X8500 Bluetooth Single Sound Bar with Dolby Atmos SNY-HTX8500\n",
      "https://www.senheng.com.my/samsung-82-inch-tu8000-crystal-uhd-4k-smart-tv-2020.html\n",
      "Saving:  Samsung TU8000 Crystal UHD 4K Smart TV (2020)\n",
      "https://www.senheng.com.my/sony-v73d-high-power-audio-system-with-bluetooth-technology-sny-mhcv73d.html\n",
      "Saving:  Sony V73D High Power Audio System with BLUETOOTH® Technology SNY-MHCV73D\n",
      "https://www.senheng.com.my/panasonic-55-inch-hz1000-oled-4k-pro-uhd-smart-tv-th-55hz1000k.html\n",
      "Saving:  Panasonic 55 Inch HZ1000 OLED 4K Pro UHD Smart TV TH-55HZ1000K\n",
      "https://www.senheng.com.my/lg-65-inch-gx-oled-cinema-hdr-smart-uhd-tv-with-ai-thinq-oled65gxpta.html\n",
      "Saving:  LG GX 65” 4K Smart SELF-LIT OLED TV with AI ThinQ® (2020) LG-OLED65GX\n",
      "https://www.senheng.com.my/cento-42-inch-fixed-tv-bracket.html\n",
      "Saving:  Cento 42 Inch Fixed TV Bracket\n",
      "https://www.senheng.com.my/hisense-75-inch-4k-uhd-a7500f-series-75a7500f.html\n",
      "Saving:  Hisense 75 Inch 4K UHD A7500F Series 75A7500F\n",
      "https://www.senheng.com.my/philips-40-inch-full-hd-ultra-slim-led-tv-40pft5063-68.html\n",
      "Saving:  Philips 40 Inch Full HD Ultra Slim LED TV 40PFT5063/68\n",
      "https://www.senheng.com.my/lg-70-inch-un73-series-active-hdr-smart-uhd-tv-with-ai-thinq.html\n",
      "Saving:  LG UN73 Series 70” 4K Active HDR Smart UHD TV with AI ThinQ® ( 2020 ) LG-70UN7300\n",
      "https://www.senheng.com.my/samsung-q60t-qled-4k-uhd-hdr-smart-tv-2020-75-inches.html\n",
      "Saving:  Samsung Q60T QLED 4K UHD HDR Smart TV 2020-75 Inches\n",
      "https://www.senheng.com.my/haier-32-inch-full-hd-led-tv-le32b9600t.html\n",
      "Saving:  Haier 32-Inch Full HD LED TV LE32B9600T\n",
      "https://www.senheng.com.my/sony-wf-1000xm3-wireless-noise-cancelling-headphones-black.html\n",
      "Saving:  Sony WF-1000XM3 Wireless Noise Cancelling Headphones Black\n",
      "https://www.senheng.com.my/haier-50-inch-uhd-android-tv-le50u6900ug.html\n",
      "Saving:  Haier 50-Inch UHD Android TV LE50U6900UG\n",
      "https://www.senheng.com.my/huawei-freelace-amber-sunrise-hua-cm70-sunrise.html\n",
      "Saving:  HUAWEI FreeLace Amber Sunrise\n",
      "https://www.senheng.com.my/sharp-60-inch-4k-uhd-tv-wide-colour-dvb-t2x4-master-engine-pro-ii-shp-4tc60ch1x.html\n",
      "Saving:  Sharp 60 Inch 4K UHD TV Wide Colour DVB-T2X4 Master Engine Pro II SHP-4TC60CH1X\n",
      "https://www.senheng.com.my/sony-43-inch-x75h-4k-ultra-hd-hdr-smart-tv-sny-kd43x7500h.html\n",
      "Saving:  Sony 43 Inch X75H 4K Ultra HD HDR Smart TV SNY-KD43X7500H\n",
      "https://www.senheng.com.my/philips-32-inch-5500-series-hd-led-tvs-32pht5583-68.html\n",
      "Saving:  Philips 32 Inch 5500 Series HD LED TVs 32PHT5583/68\n",
      "https://www.senheng.com.my/sony-85-inch-x9000h-series-smart-tv-android-tv-kd-85x9000h.html\n",
      "Saving:  Sony 85 Inch X9000H Series Smart TV (Android TV) KD-85X9000H\n",
      "https://www.senheng.com.my/xiaomi-mi-neckband-bluetooth-earphones-xmi-bt-neck-ephone.html\n",
      "Saving:  Xiaomi Mi Neckband Bluetooth Earphones XMI-BTNB-EP\n",
      "https://www.senheng.com.my/philips-55-inch-4k-uhd-led-smart-tv-plp-55put6004.html\n",
      "Saving:  Philips 55 Inch 4K UHD LED Smart TV PLP-55PUT6004\n",
      "https://www.senheng.com.my/samsung-q60t-qled-4k-uhd-hdr-smart-tv-2020-55-inches.html\n",
      "Saving:  Samsung Q60T QLED 4K UHD HDR Smart TV 2020\n",
      "https://www.senheng.com.my/beatsx-earphones-satin-silver-bts-mth62zp-a.html\n",
      "Saving:  BeatsX Earphones Satin Silver BTS-MTH62ZP/A\n",
      "https://www.senheng.com.my/sony-sports-in-ear-headphones-pink-sny-mdras410appqe.html\n",
      "Saving:  Sony Sports In-Ear Headphones (Pink) - SNY-MDRAS410APPQE\n",
      "https://www.senheng.com.my/sony-in-ear-headphones-mdr-ex155ap-red.html\n",
      "Saving:  Sony In-ear Headphones - MDR-EX155AP (Red)\n",
      "https://www.senheng.com.my/masterlink-adjustable-hdmi-cable-2m-msl-hd02-360.html\n",
      "Saving:  MasterLink Adjustable HDMI Cable 2M MSL-HD02-360\n",
      "https://www.senheng.com.my/powerbeats3-wireless-earphones-black-bts-ml8v2zp-a.html\n",
      "Saving:  Powerbeats3 Wireless Earphones Black BTS-ML8V2ZP/A\n",
      "https://www.senheng.com.my/masterlink-40-63-full-motion-mount-msl-4063fm800.html\n",
      "Saving:  MasterLink 40\"-63\" Full Motion Mount MSL-4063FM800\n",
      "https://www.senheng.com.my/cento-30-46-full-motion-mount-ct-lcdm4055.html\n",
      "Saving:  Cento 30\"-46\" Full Motion Mount CT-LCDM4055\n",
      "https://www.senheng.com.my/haier-43-inch-hd-display-led-tv-le43k6000t.html\n",
      "Saving:  Haier 43-Inch HD Display LED TV LE43K6000T\n",
      "https://www.senheng.com.my/sony-m60d-high-power-audio-system-with-dvd-sny-mhcm60d.html\n",
      "Saving:  Sony M60D High Power Audio System with DVD SNY-MHCM60D\n",
      "https://www.senheng.com.my/sony-7-1-2-dolby-atmos-soundbar-with-wi-fi-bluetoothr-technology-sny-htst5000.html\n",
      "Saving:  Sony 7.1.2 Dolby Atmos Soundbar with Wi-Fi/Bluetooth® Technology SNY-HTST5000\n",
      "https://www.senheng.com.my/sony-sports-in-ear-headphones-yellow-sny-mdras410apyqe.html\n",
      "Saving:  Sony Sports In-Ear Headphones (Yellow) - SNY-MDRAS410APYQE\n",
      "https://www.senheng.com.my/sony-microphone-sny-fv120.html\n",
      "Saving:  Sony Microphone SNY-FV120\n",
      "https://www.senheng.com.my/sony-in-ear-headphones-mdr-ex155ap-light-blue.html\n",
      "Saving:  Sony In-ear Headphones - MDR-EX155AP (Light Blue)\n",
      "https://www.senheng.com.my/masterlink-26-43-full-motion-mount-msl-602sut.html\n",
      "Saving:  MasterLink 26\"-43\" Full Motion Mount MSL-602SUT\n",
      "https://www.senheng.com.my/cento-bracket-wall-mount-fixed-brk-lcd7090.html\n",
      "Saving:  Cento Bracket Wall Mount - Fixed BRK-LCD7090\n",
      "https://www.senheng.com.my/cento-40-60-full-motion-mount-ct-plcd-plb109b.html\n",
      "Saving:  Cento 40\"-60\" Full Motion Mount CT-PLCD.PLB109B\n",
      "https://www.senheng.com.my/beats-solo3-wireless-on-ear-headphones-the-beats-decade-collection-defiant-black-red-bts-mrqc2pa-a.html\n",
      "Saving:  Beats Solo3 Wireless On-Ear Headphones The Beats Decade Collection - Defiant Black-Red BTS-MRQC2PA/A\n",
      "https://www.senheng.com.my/sony-muteki-high-power-audio-system-sny-mhcv90.html\n",
      "Saving:  Sony MUTEKI High Power Audio System SNY-MHCV90\n",
      "https://www.senheng.com.my/sony-sports-wireless-in-ear-headphones-yellow-sny-wisp600n-yme.html\n",
      "Saving:  Sony Sports Wireless In-Ear Headphones (Yellow) SNY-WISP600N/YME\n",
      "https://www.senheng.com.my/panasonic-street-wireless-headphone-2019-rp-hf410b-blue.html\n",
      "Saving:  Panasonic Street Wireless Headphone 2019 RP-HF410B (Blue)\n",
      "https://www.senheng.com.my/msi-27-inch-gaming-monitor-optix-mpg27c.html\n",
      "Saving:  MSI 27-Inch Gaming Monitor Optix MPG27C\n",
      "https://www.senheng.com.my/panasonic-sc-ux100-mini-hi-fi-system.html\n",
      "Saving:  Panasonic SC-UX100 Mini Hi-Fi System\n",
      "https://www.senheng.com.my/sony-3d-blu-ray-home-cinema-system-with-bluetooth-sny-bdvn9200.html\n",
      "Saving:  Sony 3D Blu Ray SNY-BDVN9200\n",
      "https://www.senheng.com.my/beatsx-earphones-black-bts-mth52zp-a.html\n",
      "Saving:  BeatsX Earphones Black BTS-MTH52ZP/A\n",
      "https://www.senheng.com.my/sony-in-ear-headphones-mdr-ex155ap-pink.html\n",
      "Saving:  Sony In-ear Headphones - MDR-EX155AP (Pink)\n",
      "https://www.senheng.com.my/cento-hdmi-cable-2m-ct-sthd02m.html\n",
      "Saving:  CT-STHD02M\n",
      "https://www.senheng.com.my/sharp-8k-resolution-tv-shp-8tc80ax1x.html\n",
      "Saving:  Sharp 8K Resolution TV SHP-8TC80AX1X\n",
      "https://www.senheng.com.my/cento-25-43-full-motion-mount-ct-lcdm2543.html\n",
      "Saving:  Cento 25\"-43\" Full Motion Mount CT-LCDM2543\n",
      "https://www.senheng.com.my/sony-wf-1000xm3-wireless-noise-cancelling-headphones-black.html\n",
      "Saving:  Sony WF-1000XM3 Wireless Noise Cancelling Headphones Black\n",
      "https://www.senheng.com.my/sony-2ch-single-sound-bar-with-bluetoothr-technology-ht-s100f.html\n",
      "Saving:  Sony 2ch Single Sound Bar with Bluetooth® Technology HT-S100F\n",
      "https://www.senheng.com.my/panasonic-street-wireless-headphones-2019-rp-hf410b-black-eta.html\n",
      "Saving:  Panasonic Street Wireless Headphones 2019 RP-HF410B (Black)\n",
      "https://www.senheng.com.my/sharp-45-inch-full-hd-basic-led-tv-model-2tc45ad1x.html\n",
      "Saving:  Sharp 45-Inch Full HD Basic LED TV Model 2TC45AD1X\n",
      "https://www.senheng.com.my/powerbeats3-wireless-earphones-siren-red-bts-mnly2zp-a.html\n",
      "Saving:  Powerbeats3 Wireless Earphones Siren Red BTS-MNLY2ZP/A\n"
     ]
    }
   ],
   "source": [
    "import requests\n",
    "from bs4 import BeautifulSoup\n",
    "import pandas as pd\n",
    "import matplotlib.pyplot as plt\n",
    "import seaborn as sns\n",
    "\n",
    "#baseurl is the website from which the data will be scrapped.\n",
    "baseurl = 'https://www.senheng.com.my/all-products/home-entertainment.html' \n",
    "head = {\n",
    "    'User-Agent' : 'Mozilla/5.0 (Windows NT 10.0; Win64; x64) AppleWebKit/537.36 (KHTML, like Gecko) Chrome/74.0.3729.169 Safari/537.36'\n",
    "}\n",
    "\n",
    "#To extract the url for each product and store them in a list\n",
    "productlinks = []\n",
    "for x in range(1,5):\n",
    "    r = requests.get(f'https://www.senheng.com.my/all-products/home-entertainment.html?p={x}')\n",
    "    soup = BeautifulSoup(r.content,'lxml')\n",
    "    productlist = soup.find_all('div', class_ ='product-item-details')\n",
    "    \n",
    "\n",
    "    for item in productlist:\n",
    "        for link in item.find_all('a', href=True):\n",
    "            productlinks.append(link['href'])\n",
    "        \n",
    "#To create a dictionary of required features for each product\n",
    "itemList = [] \n",
    "for link in productlinks:\n",
    "    r = requests.get(link, headers = head)\n",
    "    substring = \"#customer-reviews\"\n",
    "    if substring not in link:\n",
    "        soup = BeautifulSoup(r.content, 'lxml')\n",
    "        print(link)\n",
    "        item_name = (soup.find('span' ,class_ = 'base').text.strip())\n",
    "        \n",
    "        try: \n",
    "            actual_price = (soup.find('span' ,class_ = 'old-price').text.strip())\n",
    "        except:\n",
    "            actual_price = (soup.find('span' ,class_ = 'price').text.strip())\n",
    "            \n",
    "        try:\n",
    "            discount_price = (soup.find('span' ,class_ = 'special-price').text.strip())\n",
    "        except:\n",
    "            discount_price = actual_price\n",
    "\n",
    "        rating = (soup.find('div' ,class_ = 'rating-result').text.strip())\n",
    "        type_Item = (soup.find('li', class_ = 'item 3').text.strip())\n",
    "        substring2 = \"Warranty\"\n",
    "        warranty = (soup.find('div', class_ = 'value').text.strip())\n",
    "        if substring2 not in warranty:\n",
    "            warranty = \"No Warranty\"\n",
    "        try:\n",
    "            mon_Payment = (soup.find('span', class_ = 'sub-code').text.strip())\n",
    "        except:\n",
    "            mon_Payment = \"0\"\n",
    "        \n",
    "        try:\n",
    "            num_Reviews = (soup.find('span', class_ = 'review-number').text.strip())\n",
    "        except:\n",
    "            num_Reviews = \"0\"\n",
    "            \n",
    "        brand = (soup.find('td' ,class_ = 'col data').text.strip())\n",
    "\n",
    "        item = {\n",
    "            'Item_Name' : item_name,\n",
    "            'Category' : type_Item,\n",
    "            'Brand' : brand,\n",
    "            'Discounted_Price' : discount_price,\n",
    "            'Actual_Price' : actual_price,\n",
    "            'Rating' : rating,\n",
    "            'Num_Reviews' : num_Reviews,\n",
    "            'Warranty' : warranty,\n",
    "            'Mon_Payment' : mon_Payment\n",
    "        }\n",
    "\n",
    "        itemList.append(item)\n",
    "        print('Saving: ', item[\"Item_Name\"])\n",
    "\n",
    "#To convert the dictionary into a DataFrame\n",
    "df = pd.DataFrame(itemList)\n",
    "    "
   ]
  },
  {
   "cell_type": "markdown",
   "metadata": {},
   "source": [
    "# Data Cleaning"
   ]
  },
  {
   "cell_type": "markdown",
   "metadata": {},
   "source": [
    "## To remove duplicates products from the dataset"
   ]
  },
  {
   "cell_type": "code",
   "execution_count": 6,
   "metadata": {},
   "outputs": [],
   "source": [
    "df.drop_duplicates(subset =\"Item_Name\", keep = 'first', inplace = True) "
   ]
  },
  {
   "cell_type": "markdown",
   "metadata": {},
   "source": [
    "### To extract only digits from the 'Num_Reviews' column"
   ]
  },
  {
   "cell_type": "code",
   "execution_count": 7,
   "metadata": {},
   "outputs": [
    {
     "data": {
      "text/html": [
       "<div>\n",
       "<style scoped>\n",
       "    .dataframe tbody tr th:only-of-type {\n",
       "        vertical-align: middle;\n",
       "    }\n",
       "\n",
       "    .dataframe tbody tr th {\n",
       "        vertical-align: top;\n",
       "    }\n",
       "\n",
       "    .dataframe thead th {\n",
       "        text-align: right;\n",
       "    }\n",
       "</style>\n",
       "<table border=\"1\" class=\"dataframe\">\n",
       "  <thead>\n",
       "    <tr style=\"text-align: right;\">\n",
       "      <th></th>\n",
       "      <th>Item_Name</th>\n",
       "      <th>Category</th>\n",
       "      <th>Brand</th>\n",
       "      <th>Discounted_Price</th>\n",
       "      <th>Actual_Price</th>\n",
       "      <th>Rating</th>\n",
       "      <th>Num_Reviews</th>\n",
       "      <th>Warranty</th>\n",
       "      <th>Mon_Payment</th>\n",
       "    </tr>\n",
       "  </thead>\n",
       "  <tbody>\n",
       "    <tr>\n",
       "      <th>87</th>\n",
       "      <td>LG UN73 Series 55” 4K Active HDR Smart UHD TV ...</td>\n",
       "      <td>TV</td>\n",
       "      <td>LG</td>\n",
       "      <td>RM2,588.00</td>\n",
       "      <td>RM3,099.00</td>\n",
       "      <td>100% of 100</td>\n",
       "      <td>Displaying 1-10 of 15 reviews</td>\n",
       "      <td>2-Years Warranty</td>\n",
       "      <td>107.83/month</td>\n",
       "    </tr>\n",
       "  </tbody>\n",
       "</table>\n",
       "</div>"
      ],
      "text/plain": [
       "                                            Item_Name Category Brand  \\\n",
       "87  LG UN73 Series 55” 4K Active HDR Smart UHD TV ...       TV    LG   \n",
       "\n",
       "   Discounted_Price Actual_Price       Rating                    Num_Reviews  \\\n",
       "87       RM2,588.00   RM3,099.00  100% of 100  Displaying 1-10 of 15 reviews   \n",
       "\n",
       "            Warranty   Mon_Payment  \n",
       "87  2-Years Warranty  107.83/month  "
      ]
     },
     "execution_count": 7,
     "metadata": {},
     "output_type": "execute_result"
    }
   ],
   "source": [
    "df[df['Num_Reviews']=='Displaying 1-10 of 15 reviews']"
   ]
  },
  {
   "cell_type": "code",
   "execution_count": 8,
   "metadata": {},
   "outputs": [
    {
     "data": {
      "text/html": [
       "<div>\n",
       "<style scoped>\n",
       "    .dataframe tbody tr th:only-of-type {\n",
       "        vertical-align: middle;\n",
       "    }\n",
       "\n",
       "    .dataframe tbody tr th {\n",
       "        vertical-align: top;\n",
       "    }\n",
       "\n",
       "    .dataframe thead th {\n",
       "        text-align: right;\n",
       "    }\n",
       "</style>\n",
       "<table border=\"1\" class=\"dataframe\">\n",
       "  <thead>\n",
       "    <tr style=\"text-align: right;\">\n",
       "      <th></th>\n",
       "      <th>Item_Name</th>\n",
       "      <th>Category</th>\n",
       "      <th>Brand</th>\n",
       "      <th>Discounted_Price</th>\n",
       "      <th>Actual_Price</th>\n",
       "      <th>Rating</th>\n",
       "      <th>Num_Reviews</th>\n",
       "      <th>Warranty</th>\n",
       "      <th>Mon_Payment</th>\n",
       "    </tr>\n",
       "  </thead>\n",
       "  <tbody>\n",
       "    <tr>\n",
       "      <th>0</th>\n",
       "      <td>Haier 32-Inch Full HD LED TV LE32B9600T</td>\n",
       "      <td>TV</td>\n",
       "      <td>Haier</td>\n",
       "      <td>699.0</td>\n",
       "      <td>809.0</td>\n",
       "      <td>0.0</td>\n",
       "      <td>0</td>\n",
       "      <td>2-Years Warranty</td>\n",
       "      <td>58.25</td>\n",
       "    </tr>\n",
       "    <tr>\n",
       "      <th>1</th>\n",
       "      <td>Sony WF-1000XM3 Wireless Noise Cancelling Head...</td>\n",
       "      <td>Wearables</td>\n",
       "      <td>Sony</td>\n",
       "      <td>799.0</td>\n",
       "      <td>949.0</td>\n",
       "      <td>0.0</td>\n",
       "      <td>0</td>\n",
       "      <td>No Warranty</td>\n",
       "      <td>66.58</td>\n",
       "    </tr>\n",
       "    <tr>\n",
       "      <th>2</th>\n",
       "      <td>Haier 50-Inch UHD Android TV LE50U6900UG</td>\n",
       "      <td>TV</td>\n",
       "      <td>Haier</td>\n",
       "      <td>1699.0</td>\n",
       "      <td>2599.0</td>\n",
       "      <td>0.0</td>\n",
       "      <td>0</td>\n",
       "      <td>2-Years Warranty</td>\n",
       "      <td>70.79</td>\n",
       "    </tr>\n",
       "    <tr>\n",
       "      <th>3</th>\n",
       "      <td>HUAWEI FreeLace Amber Sunrise</td>\n",
       "      <td>Audio</td>\n",
       "      <td>Huawei</td>\n",
       "      <td>369.0</td>\n",
       "      <td>369.0</td>\n",
       "      <td>0.0</td>\n",
       "      <td>0</td>\n",
       "      <td>1-Year Warranty</td>\n",
       "      <td>0.00</td>\n",
       "    </tr>\n",
       "    <tr>\n",
       "      <th>4</th>\n",
       "      <td>Sharp 60 Inch 4K UHD TV Wide Colour DVB-T2X4 M...</td>\n",
       "      <td>TV</td>\n",
       "      <td>Sharp</td>\n",
       "      <td>2288.0</td>\n",
       "      <td>4299.0</td>\n",
       "      <td>0.0</td>\n",
       "      <td>0</td>\n",
       "      <td>2-Years Warranty</td>\n",
       "      <td>95.33</td>\n",
       "    </tr>\n",
       "  </tbody>\n",
       "</table>\n",
       "</div>"
      ],
      "text/plain": [
       "                                           Item_Name   Category   Brand  \\\n",
       "0            Haier 32-Inch Full HD LED TV LE32B9600T         TV   Haier   \n",
       "1  Sony WF-1000XM3 Wireless Noise Cancelling Head...  Wearables    Sony   \n",
       "2           Haier 50-Inch UHD Android TV LE50U6900UG         TV   Haier   \n",
       "3                      HUAWEI FreeLace Amber Sunrise      Audio  Huawei   \n",
       "4  Sharp 60 Inch 4K UHD TV Wide Colour DVB-T2X4 M...         TV   Sharp   \n",
       "\n",
       "   Discounted_Price  Actual_Price  Rating  Num_Reviews          Warranty  \\\n",
       "0             699.0         809.0     0.0            0  2-Years Warranty   \n",
       "1             799.0         949.0     0.0            0       No Warranty   \n",
       "2            1699.0        2599.0     0.0            0  2-Years Warranty   \n",
       "3             369.0         369.0     0.0            0   1-Year Warranty   \n",
       "4            2288.0        4299.0     0.0            0  2-Years Warranty   \n",
       "\n",
       "   Mon_Payment  \n",
       "0        58.25  \n",
       "1        66.58  \n",
       "2        70.79  \n",
       "3         0.00  \n",
       "4        95.33  "
      ]
     },
     "execution_count": 8,
     "metadata": {},
     "output_type": "execute_result"
    }
   ],
   "source": [
    "df['Num_Reviews'] = df['Num_Reviews'].str.extract('(\\d+)', expand=False)\n",
    "df[\"Num_Reviews\"][58] = '15'\n",
    "df[\"Num_Reviews\"] = df[\"Num_Reviews\"].astype('int')\n",
    "\n",
    "df['Actual_Price'] = df['Actual_Price'].str.replace(',', '')\n",
    "df['Actual_Price'] = df['Actual_Price'].str.replace('RM', '')\n",
    "df['Actual_Price'] = df['Actual_Price'].astype('float')\n",
    "\n",
    "df['Discounted_Price'] = df['Discounted_Price'].str.replace(',', '')\n",
    "df['Discounted_Price'] = df['Discounted_Price'].str.replace('RM', '')\n",
    "df['Discounted_Price'] = df['Discounted_Price'].astype('float')\n",
    "\n",
    "df[\"Rating\"] = df[\"Rating\"].str.split(\"%\", n = 1, expand = True)\n",
    "df[\"Rating\"].replace('Excellent\\n\\n5', 100, inplace=True)\n",
    "df[\"Rating\"] = df[\"Rating\"].astype('float')\n",
    "\n",
    "df['Mon_Payment'] = df['Mon_Payment'].str.replace(',', '')\n",
    "df[\"Mon_Payment\"] = df[\"Mon_Payment\"].str.split(\"/\", n = 1, expand = True)\n",
    "df[\"Mon_Payment\"] = df[\"Mon_Payment\"].astype('float')\n",
    "\n",
    "df[\"Brand\"].replace(\"-- Please Select --\", \"No brand\", inplace=True)\n",
    "df[\"Brand\"].replace(\"89.36\", \"Panasonic\", inplace=True)\n",
    "df[\"Brand\"].replace(\"96.8\", \"Panasonic\", inplace=True)\n",
    "df[\"Brand\"].replace(\"144.6\", \"Philips\", inplace=True)\n",
    "\n",
    "df.head()"
   ]
  },
  {
   "cell_type": "code",
   "execution_count": 9,
   "metadata": {},
   "outputs": [
    {
     "data": {
      "text/html": [
       "<div>\n",
       "<style scoped>\n",
       "    .dataframe tbody tr th:only-of-type {\n",
       "        vertical-align: middle;\n",
       "    }\n",
       "\n",
       "    .dataframe tbody tr th {\n",
       "        vertical-align: top;\n",
       "    }\n",
       "\n",
       "    .dataframe thead th {\n",
       "        text-align: right;\n",
       "    }\n",
       "</style>\n",
       "<table border=\"1\" class=\"dataframe\">\n",
       "  <thead>\n",
       "    <tr style=\"text-align: right;\">\n",
       "      <th></th>\n",
       "      <th>Item_Name</th>\n",
       "      <th>Category</th>\n",
       "      <th>Brand</th>\n",
       "      <th>Discounted_Price</th>\n",
       "      <th>Actual_Price</th>\n",
       "      <th>Rating</th>\n",
       "      <th>Num_Reviews</th>\n",
       "      <th>Warranty</th>\n",
       "      <th>Mon_Payment</th>\n",
       "    </tr>\n",
       "  </thead>\n",
       "  <tbody>\n",
       "    <tr>\n",
       "      <th>80</th>\n",
       "      <td>Samsung TU8000 Crystal UHD 4K Smart TV (2020)</td>\n",
       "      <td>TV</td>\n",
       "      <td>Samsung</td>\n",
       "      <td>2719.0</td>\n",
       "      <td>2999.0</td>\n",
       "      <td>100.0</td>\n",
       "      <td>7</td>\n",
       "      <td>2-Years Warranty</td>\n",
       "      <td>113.29</td>\n",
       "    </tr>\n",
       "    <tr>\n",
       "      <th>5</th>\n",
       "      <td>Sony 43 Inch X75H 4K Ultra HD HDR Smart TV SNY...</td>\n",
       "      <td>TV</td>\n",
       "      <td>Sony</td>\n",
       "      <td>1888.0</td>\n",
       "      <td>2199.0</td>\n",
       "      <td>100.0</td>\n",
       "      <td>6</td>\n",
       "      <td>2-Years Warranty</td>\n",
       "      <td>78.67</td>\n",
       "    </tr>\n",
       "    <tr>\n",
       "      <th>19</th>\n",
       "      <td>Samsung 50 Inch TU8500 Crystal UHD 4K Smart TV...</td>\n",
       "      <td>TV</td>\n",
       "      <td>Samsung</td>\n",
       "      <td>2299.0</td>\n",
       "      <td>2699.0</td>\n",
       "      <td>87.0</td>\n",
       "      <td>6</td>\n",
       "      <td>2-Years Warranty</td>\n",
       "      <td>95.79</td>\n",
       "    </tr>\n",
       "    <tr>\n",
       "      <th>26</th>\n",
       "      <td>LG UN74 Series 55” 4K Active HDR Smart UHD TV ...</td>\n",
       "      <td>TV</td>\n",
       "      <td>LG</td>\n",
       "      <td>3049.0</td>\n",
       "      <td>3299.0</td>\n",
       "      <td>100.0</td>\n",
       "      <td>5</td>\n",
       "      <td>2-Years Warranty</td>\n",
       "      <td>84.69</td>\n",
       "    </tr>\n",
       "    <tr>\n",
       "      <th>30</th>\n",
       "      <td>LG UN73 Series 50” 4K Active HDR Smart UHD TV ...</td>\n",
       "      <td>TV</td>\n",
       "      <td>LG</td>\n",
       "      <td>2028.0</td>\n",
       "      <td>2499.0</td>\n",
       "      <td>100.0</td>\n",
       "      <td>4</td>\n",
       "      <td>2-Years Warranty</td>\n",
       "      <td>84.50</td>\n",
       "    </tr>\n",
       "    <tr>\n",
       "      <th>...</th>\n",
       "      <td>...</td>\n",
       "      <td>...</td>\n",
       "      <td>...</td>\n",
       "      <td>...</td>\n",
       "      <td>...</td>\n",
       "      <td>...</td>\n",
       "      <td>...</td>\n",
       "      <td>...</td>\n",
       "      <td>...</td>\n",
       "    </tr>\n",
       "    <tr>\n",
       "      <th>38</th>\n",
       "      <td>AirPods Max</td>\n",
       "      <td>Audio</td>\n",
       "      <td>Apple</td>\n",
       "      <td>2399.0</td>\n",
       "      <td>2399.0</td>\n",
       "      <td>0.0</td>\n",
       "      <td>0</td>\n",
       "      <td>1-Year Warranty</td>\n",
       "      <td>99.96</td>\n",
       "    </tr>\n",
       "    <tr>\n",
       "      <th>36</th>\n",
       "      <td>LG SN9Y 520W 5.1.2ch Hi-Res Dolby Atmos Sound ...</td>\n",
       "      <td>Audio</td>\n",
       "      <td>LG</td>\n",
       "      <td>3699.0</td>\n",
       "      <td>3999.0</td>\n",
       "      <td>0.0</td>\n",
       "      <td>0</td>\n",
       "      <td>1-Year Warranty</td>\n",
       "      <td>102.75</td>\n",
       "    </tr>\n",
       "    <tr>\n",
       "      <th>35</th>\n",
       "      <td>Samsung 55 Inch Q80T QLED 4K Smart TV (2020) S...</td>\n",
       "      <td>TV</td>\n",
       "      <td>Samsung</td>\n",
       "      <td>5799.0</td>\n",
       "      <td>6499.0</td>\n",
       "      <td>0.0</td>\n",
       "      <td>0</td>\n",
       "      <td>2-Years Warranty</td>\n",
       "      <td>161.08</td>\n",
       "    </tr>\n",
       "    <tr>\n",
       "      <th>34</th>\n",
       "      <td>Sharp 42-Inch Full HD TV 2TC42BD1X</td>\n",
       "      <td>TV</td>\n",
       "      <td>Sharp</td>\n",
       "      <td>999.0</td>\n",
       "      <td>1499.0</td>\n",
       "      <td>0.0</td>\n",
       "      <td>0</td>\n",
       "      <td>2-Years Warranty</td>\n",
       "      <td>83.25</td>\n",
       "    </tr>\n",
       "    <tr>\n",
       "      <th>175</th>\n",
       "      <td>Powerbeats3 Wireless Earphones Siren Red BTS-M...</td>\n",
       "      <td>Audio</td>\n",
       "      <td>Beats By Dre</td>\n",
       "      <td>769.0</td>\n",
       "      <td>769.0</td>\n",
       "      <td>0.0</td>\n",
       "      <td>0</td>\n",
       "      <td>1-Year Warranty</td>\n",
       "      <td>64.08</td>\n",
       "    </tr>\n",
       "  </tbody>\n",
       "</table>\n",
       "<p>103 rows × 9 columns</p>\n",
       "</div>"
      ],
      "text/plain": [
       "                                             Item_Name Category         Brand  \\\n",
       "80       Samsung TU8000 Crystal UHD 4K Smart TV (2020)       TV       Samsung   \n",
       "5    Sony 43 Inch X75H 4K Ultra HD HDR Smart TV SNY...       TV          Sony   \n",
       "19   Samsung 50 Inch TU8500 Crystal UHD 4K Smart TV...       TV       Samsung   \n",
       "26   LG UN74 Series 55” 4K Active HDR Smart UHD TV ...       TV            LG   \n",
       "30   LG UN73 Series 50” 4K Active HDR Smart UHD TV ...       TV            LG   \n",
       "..                                                 ...      ...           ...   \n",
       "38                                         AirPods Max    Audio         Apple   \n",
       "36   LG SN9Y 520W 5.1.2ch Hi-Res Dolby Atmos Sound ...    Audio            LG   \n",
       "35   Samsung 55 Inch Q80T QLED 4K Smart TV (2020) S...       TV       Samsung   \n",
       "34                  Sharp 42-Inch Full HD TV 2TC42BD1X       TV         Sharp   \n",
       "175  Powerbeats3 Wireless Earphones Siren Red BTS-M...    Audio  Beats By Dre   \n",
       "\n",
       "     Discounted_Price  Actual_Price  Rating  Num_Reviews          Warranty  \\\n",
       "80             2719.0        2999.0   100.0            7  2-Years Warranty   \n",
       "5              1888.0        2199.0   100.0            6  2-Years Warranty   \n",
       "19             2299.0        2699.0    87.0            6  2-Years Warranty   \n",
       "26             3049.0        3299.0   100.0            5  2-Years Warranty   \n",
       "30             2028.0        2499.0   100.0            4  2-Years Warranty   \n",
       "..                ...           ...     ...          ...               ...   \n",
       "38             2399.0        2399.0     0.0            0   1-Year Warranty   \n",
       "36             3699.0        3999.0     0.0            0   1-Year Warranty   \n",
       "35             5799.0        6499.0     0.0            0  2-Years Warranty   \n",
       "34              999.0        1499.0     0.0            0  2-Years Warranty   \n",
       "175             769.0         769.0     0.0            0   1-Year Warranty   \n",
       "\n",
       "     Mon_Payment  \n",
       "80        113.29  \n",
       "5          78.67  \n",
       "19         95.79  \n",
       "26         84.69  \n",
       "30         84.50  \n",
       "..           ...  \n",
       "38         99.96  \n",
       "36        102.75  \n",
       "35        161.08  \n",
       "34         83.25  \n",
       "175        64.08  \n",
       "\n",
       "[103 rows x 9 columns]"
      ]
     },
     "execution_count": 9,
     "metadata": {},
     "output_type": "execute_result"
    }
   ],
   "source": [
    "df.sort_values(by='Num_Reviews', ascending=False)"
   ]
  },
  {
   "cell_type": "markdown",
   "metadata": {},
   "source": [
    "## Feature Engineering"
   ]
  },
  {
   "cell_type": "code",
   "execution_count": 10,
   "metadata": {},
   "outputs": [],
   "source": [
    "df['Discount'] = ((df['Actual_Price'] - df['Discounted_Price']) / df['Actual_Price'] * 100).round(decimals=2)"
   ]
  },
  {
   "cell_type": "markdown",
   "metadata": {},
   "source": [
    "## Exploratory Data Analysis (EDA)\n"
   ]
  },
  {
   "cell_type": "code",
   "execution_count": 11,
   "metadata": {},
   "outputs": [],
   "source": [
    "import matplotlib.pyplot as plt"
   ]
  },
  {
   "cell_type": "code",
   "execution_count": 12,
   "metadata": {},
   "outputs": [
    {
     "data": {
      "text/plain": [
       "array(['TV', 'Wearables', 'Audio', 'Accessories', 'Mobile Accessories',\n",
       "       'DVD Players'], dtype=object)"
      ]
     },
     "execution_count": 12,
     "metadata": {},
     "output_type": "execute_result"
    }
   ],
   "source": [
    "df['Category'].unique()"
   ]
  },
  {
   "cell_type": "code",
   "execution_count": 13,
   "metadata": {},
   "outputs": [],
   "source": [
    "#Subsetting unsold products\n",
    "df_Unsold = df[df.Num_Reviews == 0.0]\n",
    "\n",
    "#Subsetting sold products\n",
    "df_Sold = df[df['Num_Reviews']>0]"
   ]
  },
  {
   "cell_type": "code",
   "execution_count": 14,
   "metadata": {},
   "outputs": [
    {
     "data": {
      "text/html": [
       "<div>\n",
       "<style scoped>\n",
       "    .dataframe tbody tr th:only-of-type {\n",
       "        vertical-align: middle;\n",
       "    }\n",
       "\n",
       "    .dataframe tbody tr th {\n",
       "        vertical-align: top;\n",
       "    }\n",
       "\n",
       "    .dataframe thead th {\n",
       "        text-align: right;\n",
       "    }\n",
       "</style>\n",
       "<table border=\"1\" class=\"dataframe\">\n",
       "  <thead>\n",
       "    <tr style=\"text-align: right;\">\n",
       "      <th></th>\n",
       "      <th>Item_Name</th>\n",
       "      <th>Category</th>\n",
       "      <th>Brand</th>\n",
       "      <th>Discounted_Price</th>\n",
       "      <th>Actual_Price</th>\n",
       "      <th>Rating</th>\n",
       "      <th>Num_Reviews</th>\n",
       "      <th>Warranty</th>\n",
       "      <th>Mon_Payment</th>\n",
       "      <th>Discount</th>\n",
       "    </tr>\n",
       "  </thead>\n",
       "  <tbody>\n",
       "    <tr>\n",
       "      <th>80</th>\n",
       "      <td>Samsung TU8000 Crystal UHD 4K Smart TV (2020)</td>\n",
       "      <td>TV</td>\n",
       "      <td>Samsung</td>\n",
       "      <td>2719.0</td>\n",
       "      <td>2999.0</td>\n",
       "      <td>100.0</td>\n",
       "      <td>7</td>\n",
       "      <td>2-Years Warranty</td>\n",
       "      <td>113.29</td>\n",
       "      <td>9.34</td>\n",
       "    </tr>\n",
       "    <tr>\n",
       "      <th>19</th>\n",
       "      <td>Samsung 50 Inch TU8500 Crystal UHD 4K Smart TV...</td>\n",
       "      <td>TV</td>\n",
       "      <td>Samsung</td>\n",
       "      <td>2299.0</td>\n",
       "      <td>2699.0</td>\n",
       "      <td>87.0</td>\n",
       "      <td>6</td>\n",
       "      <td>2-Years Warranty</td>\n",
       "      <td>95.79</td>\n",
       "      <td>14.82</td>\n",
       "    </tr>\n",
       "    <tr>\n",
       "      <th>5</th>\n",
       "      <td>Sony 43 Inch X75H 4K Ultra HD HDR Smart TV SNY...</td>\n",
       "      <td>TV</td>\n",
       "      <td>Sony</td>\n",
       "      <td>1888.0</td>\n",
       "      <td>2199.0</td>\n",
       "      <td>100.0</td>\n",
       "      <td>6</td>\n",
       "      <td>2-Years Warranty</td>\n",
       "      <td>78.67</td>\n",
       "      <td>14.14</td>\n",
       "    </tr>\n",
       "    <tr>\n",
       "      <th>26</th>\n",
       "      <td>LG UN74 Series 55” 4K Active HDR Smart UHD TV ...</td>\n",
       "      <td>TV</td>\n",
       "      <td>LG</td>\n",
       "      <td>3049.0</td>\n",
       "      <td>3299.0</td>\n",
       "      <td>100.0</td>\n",
       "      <td>5</td>\n",
       "      <td>2-Years Warranty</td>\n",
       "      <td>84.69</td>\n",
       "      <td>7.58</td>\n",
       "    </tr>\n",
       "    <tr>\n",
       "      <th>30</th>\n",
       "      <td>LG UN73 Series 50” 4K Active HDR Smart UHD TV ...</td>\n",
       "      <td>TV</td>\n",
       "      <td>LG</td>\n",
       "      <td>2028.0</td>\n",
       "      <td>2499.0</td>\n",
       "      <td>100.0</td>\n",
       "      <td>4</td>\n",
       "      <td>2-Years Warranty</td>\n",
       "      <td>84.50</td>\n",
       "      <td>18.85</td>\n",
       "    </tr>\n",
       "  </tbody>\n",
       "</table>\n",
       "</div>"
      ],
      "text/plain": [
       "                                            Item_Name Category    Brand  \\\n",
       "80      Samsung TU8000 Crystal UHD 4K Smart TV (2020)       TV  Samsung   \n",
       "19  Samsung 50 Inch TU8500 Crystal UHD 4K Smart TV...       TV  Samsung   \n",
       "5   Sony 43 Inch X75H 4K Ultra HD HDR Smart TV SNY...       TV     Sony   \n",
       "26  LG UN74 Series 55” 4K Active HDR Smart UHD TV ...       TV       LG   \n",
       "30  LG UN73 Series 50” 4K Active HDR Smart UHD TV ...       TV       LG   \n",
       "\n",
       "    Discounted_Price  Actual_Price  Rating  Num_Reviews          Warranty  \\\n",
       "80            2719.0        2999.0   100.0            7  2-Years Warranty   \n",
       "19            2299.0        2699.0    87.0            6  2-Years Warranty   \n",
       "5             1888.0        2199.0   100.0            6  2-Years Warranty   \n",
       "26            3049.0        3299.0   100.0            5  2-Years Warranty   \n",
       "30            2028.0        2499.0   100.0            4  2-Years Warranty   \n",
       "\n",
       "    Mon_Payment  Discount  \n",
       "80       113.29      9.34  \n",
       "19        95.79     14.82  \n",
       "5         78.67     14.14  \n",
       "26        84.69      7.58  \n",
       "30        84.50     18.85  "
      ]
     },
     "execution_count": 14,
     "metadata": {},
     "output_type": "execute_result"
    }
   ],
   "source": [
    "df_Sold.sort_values(by='Num_Reviews', ascending=False).head()"
   ]
  },
  {
   "cell_type": "code",
   "execution_count": 15,
   "metadata": {},
   "outputs": [
    {
     "data": {
      "text/plain": [
       "Text(0, 0.5, 'Number of Products Sold')"
      ]
     },
     "execution_count": 15,
     "metadata": {},
     "output_type": "execute_result"
    },
    {
     "data": {
      "image/png": "[encoded data removed]",
      "text/plain": [
       "<Figure size 432x288 with 1 Axes>"
      ]
     },
     "metadata": {
      "needs_background": "light"
     },
     "output_type": "display_data"
    }
   ],
   "source": [
    "df_Num_Reviews = df.groupby(['Category'])['Num_Reviews'].sum()\n",
    "df_Num_Reviews.plot.bar().set_ylabel('Number of Products Sold')"
   ]
  },
  {
   "cell_type": "markdown",
   "metadata": {},
   "source": [
    "### It can be seen from the plot above that only Audio and TV products are sold through the Sen Heng website. Thus, products from these two categories can be more emphasized/highlighted in Sen Heng's website. More options from these two categories can be provided to propective customers."
   ]
  },
  {
   "cell_type": "markdown",
   "metadata": {},
   "source": [
    "### Performing Market Basket Analysis, we can also suggest Sen Heng to pair up fast moving products with slow moving or unsold products as a valuepack (Combo Price). In this wise, they can sell unsold products together with their well selling products. "
   ]
  },
  {
   "cell_type": "code",
   "execution_count": 16,
   "metadata": {},
   "outputs": [
    {
     "data": {
      "text/plain": [
       "<AxesSubplot:ylabel='Frequency'>"
      ]
     },
     "execution_count": 16,
     "metadata": {},
     "output_type": "execute_result"
    },
    {
     "data": {
      "image/png": "[encoded data removed]",
      "text/plain": [
       "<Figure size 432x288 with 1 Axes>"
      ]
     },
     "metadata": {
      "needs_background": "light"
     },
     "output_type": "display_data"
    }
   ],
   "source": [
    "df_Sold['Discounted_Price'].plot.hist(bins=10, alpha=0.5)"
   ]
  },
  {
   "cell_type": "code",
   "execution_count": 17,
   "metadata": {},
   "outputs": [
    {
     "data": {
      "text/plain": [
       "<AxesSubplot:ylabel='Frequency'>"
      ]
     },
     "execution_count": 17,
     "metadata": {},
     "output_type": "execute_result"
    },
    {
     "data": {
      "image/png": "[encoded data removed]",
      "text/plain": [
       "<Figure size 432x288 with 1 Axes>"
      ]
     },
     "metadata": {
      "needs_background": "light"
     },
     "output_type": "display_data"
    }
   ],
   "source": [
    "df_Unsold['Discounted_Price'].plot.hist(bins=20, alpha=0.5)"
   ]
  },
  {
   "cell_type": "markdown",
   "metadata": {},
   "source": [
    "### From the above plots, we can see that most of products sold and unsold are priced below RM 10000. Data do not suggest a correlation between the selling price and the number of products sold. Hence, we can deduce that price of the products is not a primary factor in affecting the customers' purchase desicions."
   ]
  },
  {
   "cell_type": "code",
   "execution_count": 18,
   "metadata": {},
   "outputs": [
    {
     "data": {
      "text/plain": [
       "Text(0, 0.5, 'Number of Products Sold')"
      ]
     },
     "execution_count": 18,
     "metadata": {},
     "output_type": "execute_result"
    },
    {
     "data": {
      "image/png": "[encoded data removed]",
      "text/plain": [
       "<Figure size 432x288 with 1 Axes>"
      ]
     },
     "metadata": {
      "needs_background": "light"
     },
     "output_type": "display_data"
    }
   ],
   "source": [
    "df_Brand = df.groupby(['Brand'])['Num_Reviews'].sum()\n",
    "df_Brand.plot.bar().set_ylabel('Number of Products Sold')"
   ]
  },
  {
   "cell_type": "markdown",
   "metadata": {},
   "source": [
    "### From the plot above, it is evident that all but LG, Sony, Samsung, Sharp and Philips are not very much popular with the customers. Thus, resources spent to soure out products from the unpopular brands can be eliminated and those resources can be redirected to procure quality products from most popular brands such as LG and Sony.\n",
    "\n",
    "### Data also suggest that specific brands and quality plays a primary role in generating customers' interest towards a product."
   ]
  },
  {
   "cell_type": "code",
   "execution_count": 19,
   "metadata": {},
   "outputs": [
    {
     "data": {
      "text/plain": [
       "Text(0, 0.5, 'Mean Discount of Sold Products (%)')"
      ]
     },
     "execution_count": 19,
     "metadata": {},
     "output_type": "execute_result"
    },
    {
     "data": {
      "image/png": "[encoded data removed]",
      "text/plain": [
       "<Figure size 432x288 with 1 Axes>"
      ]
     },
     "metadata": {
      "needs_background": "light"
     },
     "output_type": "display_data"
    }
   ],
   "source": [
    "df_Sold.groupby(['Brand'])['Discount'].mean().plot.bar().set_ylabel('Mean Discount of Sold Products (%)')"
   ]
  },
  {
   "cell_type": "markdown",
   "metadata": {},
   "source": [
    "### Among the various secondary factors that converts customers' interest into conversion is percentage of discount offered.\n",
    "\n",
    "### The plot above displays the average discount offered for sold products for each brand. This gives an idea of how much discount to provide in the future for unsold products in those respective brands."
   ]
  },
  {
   "cell_type": "code",
   "execution_count": 20,
   "metadata": {},
   "outputs": [
    {
     "data": {
      "text/plain": [
       "<AxesSubplot:xlabel='Brand', ylabel='Mon_Payment'>"
      ]
     },
     "execution_count": 20,
     "metadata": {},
     "output_type": "execute_result"
    },
    {
     "data": {
      "image/png": "[encoded data removed]",
      "text/plain": [
       "<Figure size 432x288 with 1 Axes>"
      ]
     },
     "metadata": {
      "needs_background": "light"
     },
     "output_type": "display_data"
    }
   ],
   "source": [
    "df_Sold.plot.scatter(x='Brand',y='Mon_Payment', c='DarkBlue')"
   ]
  },
  {
   "cell_type": "markdown",
   "metadata": {},
   "source": [
    "### Another secondary factor that have a bearing on whether a customer completes a purchase is the monthly installment amount. It is assumed that all the customers have bought the products thorugh monthly installment. Hence, we can say that products with a monthly payment of lesser than RM 200/per month has attracted more customers. So, I would suggest the company to focus on products with monthly installement payment below RM 200."
   ]
  },
  {
   "cell_type": "code",
   "execution_count": 21,
   "metadata": {},
   "outputs": [
    {
     "data": {
      "text/plain": [
       "Text(0, 0.5, 'Number of Products Sold')"
      ]
     },
     "execution_count": 21,
     "metadata": {},
     "output_type": "execute_result"
    },
    {
     "data": {
      "image/png": "[encoded data removed]",
      "text/plain": [
       "<Figure size 432x288 with 1 Axes>"
      ]
     },
     "metadata": {
      "needs_background": "light"
     },
     "output_type": "display_data"
    }
   ],
   "source": [
    "df_Warranty = df.groupby(['Warranty'])['Num_Reviews'].sum()\n",
    "df_Warranty.plot.bar().set_ylabel('Number of Products Sold')"
   ]
  },
  {
   "cell_type": "markdown",
   "metadata": {},
   "source": [
    "### In my analysis, I have also found that warranty period serves as an additional secondary factor for customers to complete purchase. From the bar plot above we can deduce that products with 2-years warranty sold the most. So, I would suggest to provide a warranty for 2 or more years to the unsold or underperforming products."
   ]
  }
 ],
 "metadata": {
  "kernelspec": {
   "display_name": "Python 3",
   "language": "python",
   "name": "python3"
  },
  "language_info": {
   "codemirror_mode": {
    "name": "ipython",
    "version": 3
   },
   "file_extension": ".py",
   "mimetype": "text/x-python",
   "name": "python",
   "nbconvert_exporter": "python",
   "pygments_lexer": "ipython3",
   "version": "3.8.5"
  }
 },
 "nbformat": 4,
 "nbformat_minor": 4
}
